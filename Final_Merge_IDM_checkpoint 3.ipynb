{
 "cells": [
  {
   "cell_type": "code",
   "execution_count": 1,
   "metadata": {},
   "outputs": [],
   "source": [
    "#!pip install PyMySQL\n",
    "#!pip install pandas-profiling\n",
    "import pymysql\n",
    "import pymysql.cursors\n",
    "import json\n",
    "import numpy as np\n",
    "import pandas as pd\n",
    "import matplotlib as mpl\n",
    "import seaborn as sns\n",
    "import matplotlib.pyplot as plt\n",
    "import pandas_profiling\n",
    "from sklearn.linear_model import LinearRegression\n",
    "from sklearn.metrics import r2_score\n",
    "import statsmodels.api as sm\n",
    "from scipy import stats\n",
    "from sklearn.cluster import KMeans"
   ]
  },
  {
   "cell_type": "code",
   "execution_count": 2,
   "metadata": {},
   "outputs": [
    {
     "name": "stdout",
     "output_type": "stream",
     "text": [
      "The training dataframe dimensions are (19158, 14).\n",
      "\n",
      "The test dataframe dimensions are (2129, 13).\n",
      "\n"
     ]
    }
   ],
   "source": [
    "aug_train = pd.read_csv('C:/Users/ashut/OneDrive/Desktop/DataScienceForGood/Session1/aug_train.csv', header= 0, sep=',')\n",
    "print(\"The training dataframe dimensions are \" + str(aug_train.shape) + \".\\n\")\n",
    "#aug_train.sample(10)\n",
    "aug_test = pd.read_csv('C:/Users/ashut/OneDrive/Desktop/DataScienceForGood/Session1/aug_test.csv', header= 0, sep=',')\n",
    "print(\"The test dataframe dimensions are \" + str(aug_test.shape) + \".\\n\")\n",
    "#aug_test.sample(10)\n",
    "\n",
    "df = aug_train\n",
    "# Running a pandas profiling profile report on our DataFrame (takes a long time)\n",
    "# only need to do it once\n",
    "#report = df.profile_report() \n",
    "#report.to_file(\"HR_Report.html\")\n"
   ]
  },
  {
   "cell_type": "code",
   "execution_count": 3,
   "metadata": {},
   "outputs": [
    {
     "name": "stdout",
     "output_type": "stream",
     "text": [
      "city\n",
      "city_1       26\n",
      "city_10      86\n",
      "city_100    275\n",
      "city_101     75\n",
      "city_102    304\n",
      "           ... \n",
      "city_93      26\n",
      "city_94      26\n",
      "city_97     104\n",
      "city_98      79\n",
      "city_99      94\n",
      "Length: 123, dtype: int64\n",
      "city_development_index\n",
      "0.448      17\n",
      "0.479      28\n",
      "0.487       5\n",
      "0.493      13\n",
      "0.512       5\n",
      "         ... \n",
      "0.924     301\n",
      "0.925     171\n",
      "0.926    1336\n",
      "0.939     497\n",
      "0.949      79\n",
      "Length: 93, dtype: int64\n",
      "gender\n",
      "Female     1238\n",
      "Male      13221\n",
      "Other       191\n",
      "dtype: int64\n",
      "relevent_experience\n",
      "Has relevent experience    13792\n",
      "No relevent experience      5366\n",
      "dtype: int64\n",
      "enrolled_university\n",
      "Full time course     3757\n",
      "Part time course     1198\n",
      "no_enrollment       13817\n",
      "dtype: int64\n",
      "education_level\n",
      "Graduate          11598\n",
      "High School        2017\n",
      "Masters            4361\n",
      "Phd                 414\n",
      "Primary School      308\n",
      "dtype: int64\n",
      "major_discipline\n",
      "Arts                 253\n",
      "Business Degree      327\n",
      "Humanities           669\n",
      "No Major             223\n",
      "Other                381\n",
      "STEM               14492\n",
      "dtype: int64\n",
      "experience\n",
      "1       549\n",
      "10      985\n",
      "11      664\n",
      "12      494\n",
      "13      399\n",
      "14      586\n",
      "15      686\n",
      "16      508\n",
      "17      342\n",
      "18      280\n",
      "19      304\n",
      "2      1127\n",
      "20      148\n",
      "3      1354\n",
      "4      1403\n",
      "5      1430\n",
      "6      1216\n",
      "7      1028\n",
      "8       802\n",
      "9       980\n",
      "<1      522\n",
      ">20    3286\n",
      "dtype: int64\n",
      "company_size\n",
      "10/49        1471\n",
      "100-500      2571\n",
      "1000-4999    1328\n",
      "10000+       2019\n",
      "50-99        3083\n",
      "500-999       877\n",
      "5000-9999     563\n",
      "<10          1308\n",
      "dtype: int64\n",
      "company_type\n",
      "Early Stage Startup     603\n",
      "Funded Startup         1001\n",
      "NGO                     521\n",
      "Other                   121\n",
      "Public Sector           955\n",
      "Pvt Ltd                9817\n",
      "dtype: int64\n",
      "last_new_job\n",
      "1        8040\n",
      "2        2900\n",
      "3        1024\n",
      "4        1029\n",
      ">4       3290\n",
      "never    2452\n",
      "dtype: int64\n",
      "training_hours\n",
      "1        9\n",
      "2       96\n",
      "3      119\n",
      "4      224\n",
      "5      107\n",
      "      ... \n",
      "328     11\n",
      "330     11\n",
      "332     12\n",
      "334     11\n",
      "336     11\n",
      "Length: 241, dtype: int64\n",
      "target\n",
      "0.0    14381\n",
      "1.0     4777\n",
      "dtype: int64\n"
     ]
    },
    {
     "data": {
      "text/plain": [
       "{'1', '2', '3', '4', '>4', nan, 'never'}"
      ]
     },
     "execution_count": 3,
     "metadata": {},
     "output_type": "execute_result"
    }
   ],
   "source": [
    "#print(df.groupby(['enrollee_id']).size() )\n",
    "print(df.groupby(['city']).size() )\n",
    "print(df.groupby(['city_development_index']).size() )\n",
    "print(df.groupby(['gender']).size() )\n",
    "print(df.groupby(['relevent_experience']).size() )\n",
    "print(df.groupby(['enrolled_university']).size() )\n",
    "print(df.groupby(['education_level']).size() )\n",
    "print(df.groupby(['major_discipline']).size() )\n",
    "print(df.groupby(['experience']).size() )\n",
    "print(df.groupby(['company_size']).size() )\n",
    "print(df.groupby(['company_type']).size() )\n",
    "print(df.groupby(['last_new_job']).size() )\n",
    "print(df.groupby(['training_hours']).size() )\n",
    "print(df.groupby(['target']).size() )\n",
    "#df['last_new_job'] = df['last_new_job'].replace(np.nan, -1)\n",
    "set(df['last_new_job'])"
   ]
  },
  {
   "cell_type": "code",
   "execution_count": 4,
   "metadata": {},
   "outputs": [
    {
     "name": "stdout",
     "output_type": "stream",
     "text": [
      "The initial null values: \n",
      "\n",
      "enrollee_id                  0\n",
      "city                         0\n",
      "city_development_index       0\n",
      "gender                    4508\n",
      "relevent_experience          0\n",
      "enrolled_university        386\n",
      "education_level            460\n",
      "major_discipline          2813\n",
      "experience                  65\n",
      "company_size              5938\n",
      "company_type              6140\n",
      "last_new_job               423\n",
      "training_hours               0\n",
      "target                       0\n",
      "dtype: int64\n"
     ]
    }
   ],
   "source": [
    "print(\"The initial null values: \\n\")\n",
    "print(df.isnull().sum())"
   ]
  },
  {
   "cell_type": "code",
   "execution_count": 5,
   "metadata": {},
   "outputs": [
    {
     "name": "stdout",
     "output_type": "stream",
     "text": [
      "The new NaN values: \n",
      "\n",
      "enrollee_id               0\n",
      "city                      0\n",
      "city_development_index    0\n",
      "gender                    0\n",
      "relevent_experience       0\n",
      "enrolled_university       0\n",
      "education_level           0\n",
      "major_discipline          0\n",
      "experience                0\n",
      "company_size              0\n",
      "company_type              0\n",
      "last_new_job              0\n",
      "training_hours            0\n",
      "target                    0\n",
      "dtype: int64\n"
     ]
    }
   ],
   "source": [
    "# Initially we are removing the null values. We might convert them to defaults after more analysis.\n",
    "#df.dropna(subset=['gender', 'major_discipline', 'company_size', 'company_type', 'last_new_job', 'enrolled_experience'], inplace=True)\n",
    "\n",
    "#Note when can use factorize to automatically make the enumeration but then the data won't be ordinal\n",
    "#Converting categorical data to an enumeration to make statistical analysis possible\n",
    "df['gender'] = df['gender'].map({np.nan:-1,'Male':0, 'Female': 1, 'Other':2})                                 \n",
    "\n",
    "df['major_discipline'],unique_major_discipline = pd.factorize(df['major_discipline'], na_sentinel = -1)\n",
    "df['city'],unique_city = pd.factorize(df['city'],sort=False, na_sentinel = -1)\n",
    "\n",
    "df['enrolled_university'] = df['enrolled_university'].map({np.nan:-1,'no_enrollment':0, 'Part time course': 1, 'Full time course': 2})\n",
    "df['major_discipline'],unique_major_discipline = pd.factorize(df['major_discipline'], na_sentinel = -1)\n",
    "df['company_type'],unique_company_type = pd.factorize(df['company_type'], na_sentinel = -1)\n",
    "df['relevent_experience'] = df['relevent_experience'].map({'No relevent experience':0, 'Has relevent experience': 1})\n",
    "\n",
    "#Needs manual factor so it can be ordinal\n",
    "#df['last_new_job'],unique_last_new_job = pd.factorize(df['last_new_job']) #can't use factorize \n",
    "df['last_new_job'] = df['last_new_job'].map({np.nan:-1,'never':0, '1': 1, '2':2, '3':3, '4':4, '>4':5})\n",
    "#df['company_size'],unique_50-99company_size = pd.factorize(df['company_size'])                               \n",
    "df['company_size'] = df['company_size'].map({np.nan:-1,'<10':0, '10/49': 1, '50-99':2, '100-500':3, '500-999':4, '1000-4999':5,\n",
    "                                             '5000-9999':6, '10000+':7})                                 \n",
    "#df['experience'],unique_experience = pd.factorize(df['experience'],sort=False, na_sentinel = -1)\n",
    "df['experience'] = df['experience'].map({np.nan:-1,'<1':0, '1': 1, '2':2, '3':3, '4':4, '5':5, '6':6, '7':7,'8':8,'9':9,'10':10,\n",
    "                                         '11':11,'12':12,'13':13,'14':14,'15':15,'16':16,'17':17,'18':18,'19':19,'20':20, '>20':21 })\n",
    "df['education_level'] = df['education_level'].map({np.nan:-1, 'Primary School':0, 'High School': 1, 'Graduate':2, 'Masters':3, 'Phd':4})\n",
    "\n",
    "# Delete nulls\n",
    "#df.dropna(subset=['default', 'contact', 'job', 'education', 'poutcome'], inplace=True)\n",
    "\n",
    "#Already numerical                                 \n",
    "df['training_hours']\n",
    "df['target']\n",
    "\n",
    "print(\"The new NaN values: \\n\")\n",
    "print(df.isnull().sum())\n",
    "#df.groupby(['job']).size() #unknown"
   ]
  },
  {
   "cell_type": "code",
   "execution_count": 6,
   "metadata": {},
   "outputs": [
    {
     "name": "stdout",
     "output_type": "stream",
     "text": [
      "Correlation:\n"
     ]
    },
    {
     "data": {
      "text/html": [
       "<div>\n",
       "<style scoped>\n",
       "    .dataframe tbody tr th:only-of-type {\n",
       "        vertical-align: middle;\n",
       "    }\n",
       "\n",
       "    .dataframe tbody tr th {\n",
       "        vertical-align: top;\n",
       "    }\n",
       "\n",
       "    .dataframe thead th {\n",
       "        text-align: right;\n",
       "    }\n",
       "</style>\n",
       "<table border=\"1\" class=\"dataframe\">\n",
       "  <thead>\n",
       "    <tr style=\"text-align: right;\">\n",
       "      <th></th>\n",
       "      <th>enrollee_id</th>\n",
       "      <th>city</th>\n",
       "      <th>city_development_index</th>\n",
       "      <th>gender</th>\n",
       "      <th>relevent_experience</th>\n",
       "      <th>enrolled_university</th>\n",
       "      <th>education_level</th>\n",
       "      <th>major_discipline</th>\n",
       "      <th>experience</th>\n",
       "      <th>company_size</th>\n",
       "      <th>company_type</th>\n",
       "      <th>last_new_job</th>\n",
       "      <th>training_hours</th>\n",
       "      <th>target</th>\n",
       "    </tr>\n",
       "  </thead>\n",
       "  <tbody>\n",
       "    <tr>\n",
       "      <th>enrollee_id</th>\n",
       "      <td>1.000000</td>\n",
       "      <td>-0.019946</td>\n",
       "      <td>-0.040455</td>\n",
       "      <td>0.049685</td>\n",
       "      <td>-0.043359</td>\n",
       "      <td>0.028899</td>\n",
       "      <td>-0.017848</td>\n",
       "      <td>0.023495</td>\n",
       "      <td>-0.034605</td>\n",
       "      <td>-0.011247</td>\n",
       "      <td>-0.021201</td>\n",
       "      <td>-0.021438</td>\n",
       "      <td>0.000998</td>\n",
       "      <td>0.049475</td>\n",
       "    </tr>\n",
       "    <tr>\n",
       "      <th>city</th>\n",
       "      <td>-0.019946</td>\n",
       "      <td>1.000000</td>\n",
       "      <td>-0.186088</td>\n",
       "      <td>-0.045089</td>\n",
       "      <td>-0.038315</td>\n",
       "      <td>0.046859</td>\n",
       "      <td>-0.024348</td>\n",
       "      <td>-0.002375</td>\n",
       "      <td>-0.056880</td>\n",
       "      <td>-0.099301</td>\n",
       "      <td>-0.031591</td>\n",
       "      <td>-0.058318</td>\n",
       "      <td>-0.003640</td>\n",
       "      <td>-0.055564</td>\n",
       "    </tr>\n",
       "    <tr>\n",
       "      <th>city_development_index</th>\n",
       "      <td>-0.040455</td>\n",
       "      <td>-0.186088</td>\n",
       "      <td>1.000000</td>\n",
       "      <td>0.147063</td>\n",
       "      <td>0.059808</td>\n",
       "      <td>-0.149923</td>\n",
       "      <td>0.043123</td>\n",
       "      <td>0.077751</td>\n",
       "      <td>0.334212</td>\n",
       "      <td>0.101128</td>\n",
       "      <td>0.069128</td>\n",
       "      <td>0.197637</td>\n",
       "      <td>0.001920</td>\n",
       "      <td>-0.341665</td>\n",
       "    </tr>\n",
       "    <tr>\n",
       "      <th>gender</th>\n",
       "      <td>0.049685</td>\n",
       "      <td>-0.045089</td>\n",
       "      <td>0.147063</td>\n",
       "      <td>1.000000</td>\n",
       "      <td>0.062981</td>\n",
       "      <td>-0.064595</td>\n",
       "      <td>0.060920</td>\n",
       "      <td>0.020817</td>\n",
       "      <td>0.102577</td>\n",
       "      <td>0.045706</td>\n",
       "      <td>0.033103</td>\n",
       "      <td>0.099579</td>\n",
       "      <td>-0.001708</td>\n",
       "      <td>-0.052041</td>\n",
       "    </tr>\n",
       "    <tr>\n",
       "      <th>relevent_experience</th>\n",
       "      <td>-0.043359</td>\n",
       "      <td>-0.038315</td>\n",
       "      <td>0.059808</td>\n",
       "      <td>0.062981</td>\n",
       "      <td>1.000000</td>\n",
       "      <td>-0.350603</td>\n",
       "      <td>0.237202</td>\n",
       "      <td>-0.175423</td>\n",
       "      <td>0.338549</td>\n",
       "      <td>0.294544</td>\n",
       "      <td>0.101786</td>\n",
       "      <td>0.251167</td>\n",
       "      <td>0.011566</td>\n",
       "      <td>-0.128430</td>\n",
       "    </tr>\n",
       "    <tr>\n",
       "      <th>enrolled_university</th>\n",
       "      <td>0.028899</td>\n",
       "      <td>0.046859</td>\n",
       "      <td>-0.149923</td>\n",
       "      <td>-0.064595</td>\n",
       "      <td>-0.350603</td>\n",
       "      <td>1.000000</td>\n",
       "      <td>-0.098315</td>\n",
       "      <td>0.002892</td>\n",
       "      <td>-0.315441</td>\n",
       "      <td>-0.184481</td>\n",
       "      <td>-0.038296</td>\n",
       "      <td>-0.223456</td>\n",
       "      <td>-0.004423</td>\n",
       "      <td>0.141363</td>\n",
       "    </tr>\n",
       "    <tr>\n",
       "      <th>education_level</th>\n",
       "      <td>-0.017848</td>\n",
       "      <td>-0.024348</td>\n",
       "      <td>0.043123</td>\n",
       "      <td>0.060920</td>\n",
       "      <td>0.237202</td>\n",
       "      <td>-0.098315</td>\n",
       "      <td>1.000000</td>\n",
       "      <td>-0.304987</td>\n",
       "      <td>0.256965</td>\n",
       "      <td>0.222983</td>\n",
       "      <td>0.166423</td>\n",
       "      <td>0.199328</td>\n",
       "      <td>-0.013742</td>\n",
       "      <td>-0.004372</td>\n",
       "    </tr>\n",
       "    <tr>\n",
       "      <th>major_discipline</th>\n",
       "      <td>0.023495</td>\n",
       "      <td>-0.002375</td>\n",
       "      <td>0.077751</td>\n",
       "      <td>0.020817</td>\n",
       "      <td>-0.175423</td>\n",
       "      <td>0.002892</td>\n",
       "      <td>-0.304987</td>\n",
       "      <td>1.000000</td>\n",
       "      <td>-0.096279</td>\n",
       "      <td>-0.133266</td>\n",
       "      <td>-0.047580</td>\n",
       "      <td>-0.066197</td>\n",
       "      <td>0.001838</td>\n",
       "      <td>-0.035093</td>\n",
       "    </tr>\n",
       "    <tr>\n",
       "      <th>experience</th>\n",
       "      <td>-0.034605</td>\n",
       "      <td>-0.056880</td>\n",
       "      <td>0.334212</td>\n",
       "      <td>0.102577</td>\n",
       "      <td>0.338549</td>\n",
       "      <td>-0.315441</td>\n",
       "      <td>0.256965</td>\n",
       "      <td>-0.096279</td>\n",
       "      <td>1.000000</td>\n",
       "      <td>0.168742</td>\n",
       "      <td>0.056947</td>\n",
       "      <td>0.479027</td>\n",
       "      <td>0.000316</td>\n",
       "      <td>-0.176881</td>\n",
       "    </tr>\n",
       "    <tr>\n",
       "      <th>company_size</th>\n",
       "      <td>-0.011247</td>\n",
       "      <td>-0.099301</td>\n",
       "      <td>0.101128</td>\n",
       "      <td>0.045706</td>\n",
       "      <td>0.294544</td>\n",
       "      <td>-0.184481</td>\n",
       "      <td>0.222983</td>\n",
       "      <td>-0.133266</td>\n",
       "      <td>0.168742</td>\n",
       "      <td>1.000000</td>\n",
       "      <td>0.312538</td>\n",
       "      <td>0.208631</td>\n",
       "      <td>-0.003488</td>\n",
       "      <td>-0.182771</td>\n",
       "    </tr>\n",
       "    <tr>\n",
       "      <th>company_type</th>\n",
       "      <td>-0.021201</td>\n",
       "      <td>-0.031591</td>\n",
       "      <td>0.069128</td>\n",
       "      <td>0.033103</td>\n",
       "      <td>0.101786</td>\n",
       "      <td>-0.038296</td>\n",
       "      <td>0.166423</td>\n",
       "      <td>-0.047580</td>\n",
       "      <td>0.056947</td>\n",
       "      <td>0.312538</td>\n",
       "      <td>1.000000</td>\n",
       "      <td>0.091971</td>\n",
       "      <td>0.002172</td>\n",
       "      <td>-0.107197</td>\n",
       "    </tr>\n",
       "    <tr>\n",
       "      <th>last_new_job</th>\n",
       "      <td>-0.021438</td>\n",
       "      <td>-0.058318</td>\n",
       "      <td>0.197637</td>\n",
       "      <td>0.099579</td>\n",
       "      <td>0.251167</td>\n",
       "      <td>-0.223456</td>\n",
       "      <td>0.199328</td>\n",
       "      <td>-0.066197</td>\n",
       "      <td>0.479027</td>\n",
       "      <td>0.208631</td>\n",
       "      <td>0.091971</td>\n",
       "      <td>1.000000</td>\n",
       "      <td>-0.002400</td>\n",
       "      <td>-0.088913</td>\n",
       "    </tr>\n",
       "    <tr>\n",
       "      <th>training_hours</th>\n",
       "      <td>0.000998</td>\n",
       "      <td>-0.003640</td>\n",
       "      <td>0.001920</td>\n",
       "      <td>-0.001708</td>\n",
       "      <td>0.011566</td>\n",
       "      <td>-0.004423</td>\n",
       "      <td>-0.013742</td>\n",
       "      <td>0.001838</td>\n",
       "      <td>0.000316</td>\n",
       "      <td>-0.003488</td>\n",
       "      <td>0.002172</td>\n",
       "      <td>-0.002400</td>\n",
       "      <td>1.000000</td>\n",
       "      <td>-0.021577</td>\n",
       "    </tr>\n",
       "    <tr>\n",
       "      <th>target</th>\n",
       "      <td>0.049475</td>\n",
       "      <td>-0.055564</td>\n",
       "      <td>-0.341665</td>\n",
       "      <td>-0.052041</td>\n",
       "      <td>-0.128430</td>\n",
       "      <td>0.141363</td>\n",
       "      <td>-0.004372</td>\n",
       "      <td>-0.035093</td>\n",
       "      <td>-0.176881</td>\n",
       "      <td>-0.182771</td>\n",
       "      <td>-0.107197</td>\n",
       "      <td>-0.088913</td>\n",
       "      <td>-0.021577</td>\n",
       "      <td>1.000000</td>\n",
       "    </tr>\n",
       "  </tbody>\n",
       "</table>\n",
       "</div>"
      ],
      "text/plain": [
       "                        enrollee_id      city  city_development_index  \\\n",
       "enrollee_id                1.000000 -0.019946               -0.040455   \n",
       "city                      -0.019946  1.000000               -0.186088   \n",
       "city_development_index    -0.040455 -0.186088                1.000000   \n",
       "gender                     0.049685 -0.045089                0.147063   \n",
       "relevent_experience       -0.043359 -0.038315                0.059808   \n",
       "enrolled_university        0.028899  0.046859               -0.149923   \n",
       "education_level           -0.017848 -0.024348                0.043123   \n",
       "major_discipline           0.023495 -0.002375                0.077751   \n",
       "experience                -0.034605 -0.056880                0.334212   \n",
       "company_size              -0.011247 -0.099301                0.101128   \n",
       "company_type              -0.021201 -0.031591                0.069128   \n",
       "last_new_job              -0.021438 -0.058318                0.197637   \n",
       "training_hours             0.000998 -0.003640                0.001920   \n",
       "target                     0.049475 -0.055564               -0.341665   \n",
       "\n",
       "                          gender  relevent_experience  enrolled_university  \\\n",
       "enrollee_id             0.049685            -0.043359             0.028899   \n",
       "city                   -0.045089            -0.038315             0.046859   \n",
       "city_development_index  0.147063             0.059808            -0.149923   \n",
       "gender                  1.000000             0.062981            -0.064595   \n",
       "relevent_experience     0.062981             1.000000            -0.350603   \n",
       "enrolled_university    -0.064595            -0.350603             1.000000   \n",
       "education_level         0.060920             0.237202            -0.098315   \n",
       "major_discipline        0.020817            -0.175423             0.002892   \n",
       "experience              0.102577             0.338549            -0.315441   \n",
       "company_size            0.045706             0.294544            -0.184481   \n",
       "company_type            0.033103             0.101786            -0.038296   \n",
       "last_new_job            0.099579             0.251167            -0.223456   \n",
       "training_hours         -0.001708             0.011566            -0.004423   \n",
       "target                 -0.052041            -0.128430             0.141363   \n",
       "\n",
       "                        education_level  major_discipline  experience  \\\n",
       "enrollee_id                   -0.017848          0.023495   -0.034605   \n",
       "city                          -0.024348         -0.002375   -0.056880   \n",
       "city_development_index         0.043123          0.077751    0.334212   \n",
       "gender                         0.060920          0.020817    0.102577   \n",
       "relevent_experience            0.237202         -0.175423    0.338549   \n",
       "enrolled_university           -0.098315          0.002892   -0.315441   \n",
       "education_level                1.000000         -0.304987    0.256965   \n",
       "major_discipline              -0.304987          1.000000   -0.096279   \n",
       "experience                     0.256965         -0.096279    1.000000   \n",
       "company_size                   0.222983         -0.133266    0.168742   \n",
       "company_type                   0.166423         -0.047580    0.056947   \n",
       "last_new_job                   0.199328         -0.066197    0.479027   \n",
       "training_hours                -0.013742          0.001838    0.000316   \n",
       "target                        -0.004372         -0.035093   -0.176881   \n",
       "\n",
       "                        company_size  company_type  last_new_job  \\\n",
       "enrollee_id                -0.011247     -0.021201     -0.021438   \n",
       "city                       -0.099301     -0.031591     -0.058318   \n",
       "city_development_index      0.101128      0.069128      0.197637   \n",
       "gender                      0.045706      0.033103      0.099579   \n",
       "relevent_experience         0.294544      0.101786      0.251167   \n",
       "enrolled_university        -0.184481     -0.038296     -0.223456   \n",
       "education_level             0.222983      0.166423      0.199328   \n",
       "major_discipline           -0.133266     -0.047580     -0.066197   \n",
       "experience                  0.168742      0.056947      0.479027   \n",
       "company_size                1.000000      0.312538      0.208631   \n",
       "company_type                0.312538      1.000000      0.091971   \n",
       "last_new_job                0.208631      0.091971      1.000000   \n",
       "training_hours             -0.003488      0.002172     -0.002400   \n",
       "target                     -0.182771     -0.107197     -0.088913   \n",
       "\n",
       "                        training_hours    target  \n",
       "enrollee_id                   0.000998  0.049475  \n",
       "city                         -0.003640 -0.055564  \n",
       "city_development_index        0.001920 -0.341665  \n",
       "gender                       -0.001708 -0.052041  \n",
       "relevent_experience           0.011566 -0.128430  \n",
       "enrolled_university          -0.004423  0.141363  \n",
       "education_level              -0.013742 -0.004372  \n",
       "major_discipline              0.001838 -0.035093  \n",
       "experience                    0.000316 -0.176881  \n",
       "company_size                 -0.003488 -0.182771  \n",
       "company_type                  0.002172 -0.107197  \n",
       "last_new_job                 -0.002400 -0.088913  \n",
       "training_hours                1.000000 -0.021577  \n",
       "target                       -0.021577  1.000000  "
      ]
     },
     "execution_count": 6,
     "metadata": {},
     "output_type": "execute_result"
    }
   ],
   "source": [
    "#set is used to show unique values of the list\n",
    "#set(df['last_new_job'])\n",
    "print('Correlation:')\n",
    "df.corr()"
   ]
  },
  {
   "cell_type": "code",
   "execution_count": 7,
   "metadata": {},
   "outputs": [
    {
     "data": {
      "text/plain": [
       "enrollee_id               9.247308e+07\n",
       "city                      5.301094e+02\n",
       "city_development_index    1.521812e-02\n",
       "gender                    3.170979e-01\n",
       "relevent_experience       2.016509e-01\n",
       "enrolled_university       6.782664e-01\n",
       "education_level           6.960282e-01\n",
       "major_discipline          1.843381e+00\n",
       "experience                4.618887e+01\n",
       "company_size              7.181609e+00\n",
       "company_type              2.010833e+00\n",
       "last_new_job              2.940022e+00\n",
       "training_hours            3.607019e+03\n",
       "target                    1.871831e-01\n",
       "dtype: float64"
      ]
     },
     "execution_count": 7,
     "metadata": {},
     "output_type": "execute_result"
    }
   ],
   "source": [
    " #we use this to remove useless data\n",
    "df.var()"
   ]
  },
  {
   "cell_type": "code",
   "execution_count": 8,
   "metadata": {},
   "outputs": [
    {
     "data": {
      "text/plain": [
       "array([[<AxesSubplot:xlabel='enrollee_id', ylabel='enrollee_id'>,\n",
       "        <AxesSubplot:xlabel='city', ylabel='enrollee_id'>,\n",
       "        <AxesSubplot:xlabel='city_development_index', ylabel='enrollee_id'>,\n",
       "        <AxesSubplot:xlabel='gender', ylabel='enrollee_id'>,\n",
       "        <AxesSubplot:xlabel='relevent_experience', ylabel='enrollee_id'>,\n",
       "        <AxesSubplot:xlabel='enrolled_university', ylabel='enrollee_id'>,\n",
       "        <AxesSubplot:xlabel='education_level', ylabel='enrollee_id'>,\n",
       "        <AxesSubplot:xlabel='major_discipline', ylabel='enrollee_id'>,\n",
       "        <AxesSubplot:xlabel='experience', ylabel='enrollee_id'>,\n",
       "        <AxesSubplot:xlabel='company_size', ylabel='enrollee_id'>,\n",
       "        <AxesSubplot:xlabel='company_type', ylabel='enrollee_id'>,\n",
       "        <AxesSubplot:xlabel='last_new_job', ylabel='enrollee_id'>,\n",
       "        <AxesSubplot:xlabel='training_hours', ylabel='enrollee_id'>,\n",
       "        <AxesSubplot:xlabel='target', ylabel='enrollee_id'>],\n",
       "       [<AxesSubplot:xlabel='enrollee_id', ylabel='city'>,\n",
       "        <AxesSubplot:xlabel='city', ylabel='city'>,\n",
       "        <AxesSubplot:xlabel='city_development_index', ylabel='city'>,\n",
       "        <AxesSubplot:xlabel='gender', ylabel='city'>,\n",
       "        <AxesSubplot:xlabel='relevent_experience', ylabel='city'>,\n",
       "        <AxesSubplot:xlabel='enrolled_university', ylabel='city'>,\n",
       "        <AxesSubplot:xlabel='education_level', ylabel='city'>,\n",
       "        <AxesSubplot:xlabel='major_discipline', ylabel='city'>,\n",
       "        <AxesSubplot:xlabel='experience', ylabel='city'>,\n",
       "        <AxesSubplot:xlabel='company_size', ylabel='city'>,\n",
       "        <AxesSubplot:xlabel='company_type', ylabel='city'>,\n",
       "        <AxesSubplot:xlabel='last_new_job', ylabel='city'>,\n",
       "        <AxesSubplot:xlabel='training_hours', ylabel='city'>,\n",
       "        <AxesSubplot:xlabel='target', ylabel='city'>],\n",
       "       [<AxesSubplot:xlabel='enrollee_id', ylabel='city_development_index'>,\n",
       "        <AxesSubplot:xlabel='city', ylabel='city_development_index'>,\n",
       "        <AxesSubplot:xlabel='city_development_index', ylabel='city_development_index'>,\n",
       "        <AxesSubplot:xlabel='gender', ylabel='city_development_index'>,\n",
       "        <AxesSubplot:xlabel='relevent_experience', ylabel='city_development_index'>,\n",
       "        <AxesSubplot:xlabel='enrolled_university', ylabel='city_development_index'>,\n",
       "        <AxesSubplot:xlabel='education_level', ylabel='city_development_index'>,\n",
       "        <AxesSubplot:xlabel='major_discipline', ylabel='city_development_index'>,\n",
       "        <AxesSubplot:xlabel='experience', ylabel='city_development_index'>,\n",
       "        <AxesSubplot:xlabel='company_size', ylabel='city_development_index'>,\n",
       "        <AxesSubplot:xlabel='company_type', ylabel='city_development_index'>,\n",
       "        <AxesSubplot:xlabel='last_new_job', ylabel='city_development_index'>,\n",
       "        <AxesSubplot:xlabel='training_hours', ylabel='city_development_index'>,\n",
       "        <AxesSubplot:xlabel='target', ylabel='city_development_index'>],\n",
       "       [<AxesSubplot:xlabel='enrollee_id', ylabel='gender'>,\n",
       "        <AxesSubplot:xlabel='city', ylabel='gender'>,\n",
       "        <AxesSubplot:xlabel='city_development_index', ylabel='gender'>,\n",
       "        <AxesSubplot:xlabel='gender', ylabel='gender'>,\n",
       "        <AxesSubplot:xlabel='relevent_experience', ylabel='gender'>,\n",
       "        <AxesSubplot:xlabel='enrolled_university', ylabel='gender'>,\n",
       "        <AxesSubplot:xlabel='education_level', ylabel='gender'>,\n",
       "        <AxesSubplot:xlabel='major_discipline', ylabel='gender'>,\n",
       "        <AxesSubplot:xlabel='experience', ylabel='gender'>,\n",
       "        <AxesSubplot:xlabel='company_size', ylabel='gender'>,\n",
       "        <AxesSubplot:xlabel='company_type', ylabel='gender'>,\n",
       "        <AxesSubplot:xlabel='last_new_job', ylabel='gender'>,\n",
       "        <AxesSubplot:xlabel='training_hours', ylabel='gender'>,\n",
       "        <AxesSubplot:xlabel='target', ylabel='gender'>],\n",
       "       [<AxesSubplot:xlabel='enrollee_id', ylabel='relevent_experience'>,\n",
       "        <AxesSubplot:xlabel='city', ylabel='relevent_experience'>,\n",
       "        <AxesSubplot:xlabel='city_development_index', ylabel='relevent_experience'>,\n",
       "        <AxesSubplot:xlabel='gender', ylabel='relevent_experience'>,\n",
       "        <AxesSubplot:xlabel='relevent_experience', ylabel='relevent_experience'>,\n",
       "        <AxesSubplot:xlabel='enrolled_university', ylabel='relevent_experience'>,\n",
       "        <AxesSubplot:xlabel='education_level', ylabel='relevent_experience'>,\n",
       "        <AxesSubplot:xlabel='major_discipline', ylabel='relevent_experience'>,\n",
       "        <AxesSubplot:xlabel='experience', ylabel='relevent_experience'>,\n",
       "        <AxesSubplot:xlabel='company_size', ylabel='relevent_experience'>,\n",
       "        <AxesSubplot:xlabel='company_type', ylabel='relevent_experience'>,\n",
       "        <AxesSubplot:xlabel='last_new_job', ylabel='relevent_experience'>,\n",
       "        <AxesSubplot:xlabel='training_hours', ylabel='relevent_experience'>,\n",
       "        <AxesSubplot:xlabel='target', ylabel='relevent_experience'>],\n",
       "       [<AxesSubplot:xlabel='enrollee_id', ylabel='enrolled_university'>,\n",
       "        <AxesSubplot:xlabel='city', ylabel='enrolled_university'>,\n",
       "        <AxesSubplot:xlabel='city_development_index', ylabel='enrolled_university'>,\n",
       "        <AxesSubplot:xlabel='gender', ylabel='enrolled_university'>,\n",
       "        <AxesSubplot:xlabel='relevent_experience', ylabel='enrolled_university'>,\n",
       "        <AxesSubplot:xlabel='enrolled_university', ylabel='enrolled_university'>,\n",
       "        <AxesSubplot:xlabel='education_level', ylabel='enrolled_university'>,\n",
       "        <AxesSubplot:xlabel='major_discipline', ylabel='enrolled_university'>,\n",
       "        <AxesSubplot:xlabel='experience', ylabel='enrolled_university'>,\n",
       "        <AxesSubplot:xlabel='company_size', ylabel='enrolled_university'>,\n",
       "        <AxesSubplot:xlabel='company_type', ylabel='enrolled_university'>,\n",
       "        <AxesSubplot:xlabel='last_new_job', ylabel='enrolled_university'>,\n",
       "        <AxesSubplot:xlabel='training_hours', ylabel='enrolled_university'>,\n",
       "        <AxesSubplot:xlabel='target', ylabel='enrolled_university'>],\n",
       "       [<AxesSubplot:xlabel='enrollee_id', ylabel='education_level'>,\n",
       "        <AxesSubplot:xlabel='city', ylabel='education_level'>,\n",
       "        <AxesSubplot:xlabel='city_development_index', ylabel='education_level'>,\n",
       "        <AxesSubplot:xlabel='gender', ylabel='education_level'>,\n",
       "        <AxesSubplot:xlabel='relevent_experience', ylabel='education_level'>,\n",
       "        <AxesSubplot:xlabel='enrolled_university', ylabel='education_level'>,\n",
       "        <AxesSubplot:xlabel='education_level', ylabel='education_level'>,\n",
       "        <AxesSubplot:xlabel='major_discipline', ylabel='education_level'>,\n",
       "        <AxesSubplot:xlabel='experience', ylabel='education_level'>,\n",
       "        <AxesSubplot:xlabel='company_size', ylabel='education_level'>,\n",
       "        <AxesSubplot:xlabel='company_type', ylabel='education_level'>,\n",
       "        <AxesSubplot:xlabel='last_new_job', ylabel='education_level'>,\n",
       "        <AxesSubplot:xlabel='training_hours', ylabel='education_level'>,\n",
       "        <AxesSubplot:xlabel='target', ylabel='education_level'>],\n",
       "       [<AxesSubplot:xlabel='enrollee_id', ylabel='major_discipline'>,\n",
       "        <AxesSubplot:xlabel='city', ylabel='major_discipline'>,\n",
       "        <AxesSubplot:xlabel='city_development_index', ylabel='major_discipline'>,\n",
       "        <AxesSubplot:xlabel='gender', ylabel='major_discipline'>,\n",
       "        <AxesSubplot:xlabel='relevent_experience', ylabel='major_discipline'>,\n",
       "        <AxesSubplot:xlabel='enrolled_university', ylabel='major_discipline'>,\n",
       "        <AxesSubplot:xlabel='education_level', ylabel='major_discipline'>,\n",
       "        <AxesSubplot:xlabel='major_discipline', ylabel='major_discipline'>,\n",
       "        <AxesSubplot:xlabel='experience', ylabel='major_discipline'>,\n",
       "        <AxesSubplot:xlabel='company_size', ylabel='major_discipline'>,\n",
       "        <AxesSubplot:xlabel='company_type', ylabel='major_discipline'>,\n",
       "        <AxesSubplot:xlabel='last_new_job', ylabel='major_discipline'>,\n",
       "        <AxesSubplot:xlabel='training_hours', ylabel='major_discipline'>,\n",
       "        <AxesSubplot:xlabel='target', ylabel='major_discipline'>],\n",
       "       [<AxesSubplot:xlabel='enrollee_id', ylabel='experience'>,\n",
       "        <AxesSubplot:xlabel='city', ylabel='experience'>,\n",
       "        <AxesSubplot:xlabel='city_development_index', ylabel='experience'>,\n",
       "        <AxesSubplot:xlabel='gender', ylabel='experience'>,\n",
       "        <AxesSubplot:xlabel='relevent_experience', ylabel='experience'>,\n",
       "        <AxesSubplot:xlabel='enrolled_university', ylabel='experience'>,\n",
       "        <AxesSubplot:xlabel='education_level', ylabel='experience'>,\n",
       "        <AxesSubplot:xlabel='major_discipline', ylabel='experience'>,\n",
       "        <AxesSubplot:xlabel='experience', ylabel='experience'>,\n",
       "        <AxesSubplot:xlabel='company_size', ylabel='experience'>,\n",
       "        <AxesSubplot:xlabel='company_type', ylabel='experience'>,\n",
       "        <AxesSubplot:xlabel='last_new_job', ylabel='experience'>,\n",
       "        <AxesSubplot:xlabel='training_hours', ylabel='experience'>,\n",
       "        <AxesSubplot:xlabel='target', ylabel='experience'>],\n",
       "       [<AxesSubplot:xlabel='enrollee_id', ylabel='company_size'>,\n",
       "        <AxesSubplot:xlabel='city', ylabel='company_size'>,\n",
       "        <AxesSubplot:xlabel='city_development_index', ylabel='company_size'>,\n",
       "        <AxesSubplot:xlabel='gender', ylabel='company_size'>,\n",
       "        <AxesSubplot:xlabel='relevent_experience', ylabel='company_size'>,\n",
       "        <AxesSubplot:xlabel='enrolled_university', ylabel='company_size'>,\n",
       "        <AxesSubplot:xlabel='education_level', ylabel='company_size'>,\n",
       "        <AxesSubplot:xlabel='major_discipline', ylabel='company_size'>,\n",
       "        <AxesSubplot:xlabel='experience', ylabel='company_size'>,\n",
       "        <AxesSubplot:xlabel='company_size', ylabel='company_size'>,\n",
       "        <AxesSubplot:xlabel='company_type', ylabel='company_size'>,\n",
       "        <AxesSubplot:xlabel='last_new_job', ylabel='company_size'>,\n",
       "        <AxesSubplot:xlabel='training_hours', ylabel='company_size'>,\n",
       "        <AxesSubplot:xlabel='target', ylabel='company_size'>],\n",
       "       [<AxesSubplot:xlabel='enrollee_id', ylabel='company_type'>,\n",
       "        <AxesSubplot:xlabel='city', ylabel='company_type'>,\n",
       "        <AxesSubplot:xlabel='city_development_index', ylabel='company_type'>,\n",
       "        <AxesSubplot:xlabel='gender', ylabel='company_type'>,\n",
       "        <AxesSubplot:xlabel='relevent_experience', ylabel='company_type'>,\n",
       "        <AxesSubplot:xlabel='enrolled_university', ylabel='company_type'>,\n",
       "        <AxesSubplot:xlabel='education_level', ylabel='company_type'>,\n",
       "        <AxesSubplot:xlabel='major_discipline', ylabel='company_type'>,\n",
       "        <AxesSubplot:xlabel='experience', ylabel='company_type'>,\n",
       "        <AxesSubplot:xlabel='company_size', ylabel='company_type'>,\n",
       "        <AxesSubplot:xlabel='company_type', ylabel='company_type'>,\n",
       "        <AxesSubplot:xlabel='last_new_job', ylabel='company_type'>,\n",
       "        <AxesSubplot:xlabel='training_hours', ylabel='company_type'>,\n",
       "        <AxesSubplot:xlabel='target', ylabel='company_type'>],\n",
       "       [<AxesSubplot:xlabel='enrollee_id', ylabel='last_new_job'>,\n",
       "        <AxesSubplot:xlabel='city', ylabel='last_new_job'>,\n",
       "        <AxesSubplot:xlabel='city_development_index', ylabel='last_new_job'>,\n",
       "        <AxesSubplot:xlabel='gender', ylabel='last_new_job'>,\n",
       "        <AxesSubplot:xlabel='relevent_experience', ylabel='last_new_job'>,\n",
       "        <AxesSubplot:xlabel='enrolled_university', ylabel='last_new_job'>,\n",
       "        <AxesSubplot:xlabel='education_level', ylabel='last_new_job'>,\n",
       "        <AxesSubplot:xlabel='major_discipline', ylabel='last_new_job'>,\n",
       "        <AxesSubplot:xlabel='experience', ylabel='last_new_job'>,\n",
       "        <AxesSubplot:xlabel='company_size', ylabel='last_new_job'>,\n",
       "        <AxesSubplot:xlabel='company_type', ylabel='last_new_job'>,\n",
       "        <AxesSubplot:xlabel='last_new_job', ylabel='last_new_job'>,\n",
       "        <AxesSubplot:xlabel='training_hours', ylabel='last_new_job'>,\n",
       "        <AxesSubplot:xlabel='target', ylabel='last_new_job'>],\n",
       "       [<AxesSubplot:xlabel='enrollee_id', ylabel='training_hours'>,\n",
       "        <AxesSubplot:xlabel='city', ylabel='training_hours'>,\n",
       "        <AxesSubplot:xlabel='city_development_index', ylabel='training_hours'>,\n",
       "        <AxesSubplot:xlabel='gender', ylabel='training_hours'>,\n",
       "        <AxesSubplot:xlabel='relevent_experience', ylabel='training_hours'>,\n",
       "        <AxesSubplot:xlabel='enrolled_university', ylabel='training_hours'>,\n",
       "        <AxesSubplot:xlabel='education_level', ylabel='training_hours'>,\n",
       "        <AxesSubplot:xlabel='major_discipline', ylabel='training_hours'>,\n",
       "        <AxesSubplot:xlabel='experience', ylabel='training_hours'>,\n",
       "        <AxesSubplot:xlabel='company_size', ylabel='training_hours'>,\n",
       "        <AxesSubplot:xlabel='company_type', ylabel='training_hours'>,\n",
       "        <AxesSubplot:xlabel='last_new_job', ylabel='training_hours'>,\n",
       "        <AxesSubplot:xlabel='training_hours', ylabel='training_hours'>,\n",
       "        <AxesSubplot:xlabel='target', ylabel='training_hours'>],\n",
       "       [<AxesSubplot:xlabel='enrollee_id', ylabel='target'>,\n",
       "        <AxesSubplot:xlabel='city', ylabel='target'>,\n",
       "        <AxesSubplot:xlabel='city_development_index', ylabel='target'>,\n",
       "        <AxesSubplot:xlabel='gender', ylabel='target'>,\n",
       "        <AxesSubplot:xlabel='relevent_experience', ylabel='target'>,\n",
       "        <AxesSubplot:xlabel='enrolled_university', ylabel='target'>,\n",
       "        <AxesSubplot:xlabel='education_level', ylabel='target'>,\n",
       "        <AxesSubplot:xlabel='major_discipline', ylabel='target'>,\n",
       "        <AxesSubplot:xlabel='experience', ylabel='target'>,\n",
       "        <AxesSubplot:xlabel='company_size', ylabel='target'>,\n",
       "        <AxesSubplot:xlabel='company_type', ylabel='target'>,\n",
       "        <AxesSubplot:xlabel='last_new_job', ylabel='target'>,\n",
       "        <AxesSubplot:xlabel='training_hours', ylabel='target'>,\n",
       "        <AxesSubplot:xlabel='target', ylabel='target'>]], dtype=object)"
      ]
     },
     "execution_count": 8,
     "metadata": {},
     "output_type": "execute_result"
    },
    {
     "data": {
      "image/png": "[encoded data removed]",
      "text/plain": [
       "<Figure size 432x288 with 196 Axes>"
      ]
     },
     "metadata": {
      "needs_background": "light"
     },
     "output_type": "display_data"
    }
   ],
   "source": [
    "# import the scatter matrix function from the pandas plotting package\n",
    "from pandas.plotting import scatter_matrix\n",
    "\n",
    "# If you want to select variable of interest use this df_scatter\n",
    "#df_scatter = df.loc[:,['default', 'marital', 'job', 'balance', 'loan', 'housing', 'previous']]\n",
    "\n",
    "#If you want to see all variables use this df_scatter\n",
    "df_scatter = df\n",
    "# create scatter matrix from df_scatter and choose the display type of the distribution diagonal\n",
    "pd.plotting.scatter_matrix(df_scatter, diagonal='kde')"
   ]
  },
  {
   "cell_type": "code",
   "execution_count": 9,
   "metadata": {},
   "outputs": [],
   "source": [
    "#TODO export matrix image so we can zoom in!"
   ]
  },
  {
   "cell_type": "code",
   "execution_count": 10,
   "metadata": {},
   "outputs": [
    {
     "data": {
      "text/plain": [
       "<AxesSubplot:xlabel='gender'>"
      ]
     },
     "execution_count": 10,
     "metadata": {},
     "output_type": "execute_result"
    },
    {
     "data": {
      "image/png": "[encoded data removed]",
      "text/plain": [
       "<Figure size 432x288 with 1 Axes>"
      ]
     },
     "metadata": {
      "needs_background": "light"
     },
     "output_type": "display_data"
    }
   ],
   "source": [
    "#Normalize each variable and create bar graphs showing how the target is distributed in each variable\n",
    "crosstab01 = pd.crosstab(df['gender'], df['target'])\n",
    "crosstab01norm = crosstab01.div(crosstab01.sum(1), axis = 0)\n",
    "crosstab01norm.plot(kind='bar', stacked = True)"
   ]
  },
  {
   "cell_type": "code",
   "execution_count": 11,
   "metadata": {},
   "outputs": [
    {
     "data": {
      "text/plain": [
       "<AxesSubplot:xlabel='enrolled_university'>"
      ]
     },
     "execution_count": 11,
     "metadata": {},
     "output_type": "execute_result"
    },
    {
     "data": {
      "image/png": "[encoded data removed]",
      "text/plain": [
       "<Figure size 432x288 with 1 Axes>"
      ]
     },
     "metadata": {
      "needs_background": "light"
     },
     "output_type": "display_data"
    }
   ],
   "source": [
    "crosstab02 = pd.crosstab(df['enrolled_university'], df['target'])\n",
    "crosstab02norm = crosstab02.div(crosstab02.sum(1), axis = 0)\n",
    "crosstab02norm.plot(kind='bar', stacked = True)"
   ]
  },
  {
   "cell_type": "code",
   "execution_count": 12,
   "metadata": {},
   "outputs": [
    {
     "data": {
      "text/plain": [
       "<AxesSubplot:xlabel='relevent_experience'>"
      ]
     },
     "execution_count": 12,
     "metadata": {},
     "output_type": "execute_result"
    },
    {
     "data": {
      "image/png": "[encoded data removed]",
      "text/plain": [
       "<Figure size 432x288 with 1 Axes>"
      ]
     },
     "metadata": {
      "needs_background": "light"
     },
     "output_type": "display_data"
    }
   ],
   "source": [
    "crosstab03 = pd.crosstab(df['relevent_experience'], df['target'])\n",
    "crosstab03norm = crosstab03.div(crosstab03.sum(1), axis = 0)\n",
    "crosstab03norm.plot(kind='bar', stacked = True)"
   ]
  },
  {
   "cell_type": "code",
   "execution_count": 13,
   "metadata": {},
   "outputs": [
    {
     "data": {
      "text/plain": [
       "<AxesSubplot:xlabel='education_level'>"
      ]
     },
     "execution_count": 13,
     "metadata": {},
     "output_type": "execute_result"
    },
    {
     "data": {
      "image/png": "[encoded data removed]",
      "text/plain": [
       "<Figure size 432x288 with 1 Axes>"
      ]
     },
     "metadata": {
      "needs_background": "light"
     },
     "output_type": "display_data"
    }
   ],
   "source": [
    "crosstab04 = pd.crosstab(df['education_level'], df['target'])\n",
    "crosstab04norm = crosstab04.div(crosstab04.sum(1), axis = 0)\n",
    "crosstab04norm.plot(kind='bar', stacked = True)"
   ]
  },
  {
   "cell_type": "code",
   "execution_count": 14,
   "metadata": {},
   "outputs": [
    {
     "data": {
      "text/plain": [
       "<AxesSubplot:xlabel='major_discipline'>"
      ]
     },
     "execution_count": 14,
     "metadata": {},
     "output_type": "execute_result"
    },
    {
     "data": {
      "image/png": "[encoded data removed]",
      "text/plain": [
       "<Figure size 432x288 with 1 Axes>"
      ]
     },
     "metadata": {
      "needs_background": "light"
     },
     "output_type": "display_data"
    }
   ],
   "source": [
    "crosstab05 = pd.crosstab(df['major_discipline'], df['target'])\n",
    "crosstab05norm = crosstab05.div(crosstab05.sum(1), axis = 0)\n",
    "crosstab05norm.plot(kind='bar', stacked = True)"
   ]
  },
  {
   "cell_type": "code",
   "execution_count": 15,
   "metadata": {},
   "outputs": [
    {
     "data": {
      "text/plain": [
       "<AxesSubplot:xlabel='experience'>"
      ]
     },
     "execution_count": 15,
     "metadata": {},
     "output_type": "execute_result"
    },
    {
     "data": {
      "image/png": "[encoded data removed]",
      "text/plain": [
       "<Figure size 432x288 with 1 Axes>"
      ]
     },
     "metadata": {
      "needs_background": "light"
     },
     "output_type": "display_data"
    }
   ],
   "source": [
    "crosstab06 = pd.crosstab(df['experience'], df['target']).sort_values(\"experience\")\n",
    "crosstab06norm = crosstab06.div(crosstab06.sum(1), axis = 0)\n",
    "crosstab06norm.plot(kind='bar', stacked = True)"
   ]
  },
  {
   "cell_type": "code",
   "execution_count": 16,
   "metadata": {},
   "outputs": [
    {
     "data": {
      "text/plain": [
       "<AxesSubplot:xlabel='company_size'>"
      ]
     },
     "execution_count": 16,
     "metadata": {},
     "output_type": "execute_result"
    },
    {
     "data": {
      "image/png": "[encoded data removed]",
      "text/plain": [
       "<Figure size 432x288 with 1 Axes>"
      ]
     },
     "metadata": {
      "needs_background": "light"
     },
     "output_type": "display_data"
    }
   ],
   "source": [
    "crosstab07 = pd.crosstab(df['company_size'], df['target'])\n",
    "crosstab07norm = crosstab07.div(crosstab07.sum(1), axis = 0)\n",
    "crosstab07norm.plot(kind='bar', stacked = True)"
   ]
  },
  {
   "cell_type": "code",
   "execution_count": 17,
   "metadata": {},
   "outputs": [
    {
     "data": {
      "text/plain": [
       "<AxesSubplot:xlabel='company_type'>"
      ]
     },
     "execution_count": 17,
     "metadata": {},
     "output_type": "execute_result"
    },
    {
     "data": {
      "image/png": "[encoded data removed]",
      "text/plain": [
       "<Figure size 432x288 with 1 Axes>"
      ]
     },
     "metadata": {
      "needs_background": "light"
     },
     "output_type": "display_data"
    }
   ],
   "source": [
    "crosstab08 = pd.crosstab(df['company_type'], df['target'])\n",
    "crosstab08norm = crosstab08.div(crosstab08.sum(1), axis = 0)\n",
    "crosstab08norm.plot(kind='bar', stacked = True)"
   ]
  },
  {
   "cell_type": "code",
   "execution_count": 18,
   "metadata": {},
   "outputs": [
    {
     "data": {
      "text/plain": [
       "<AxesSubplot:xlabel='last_new_job'>"
      ]
     },
     "execution_count": 18,
     "metadata": {},
     "output_type": "execute_result"
    },
    {
     "data": {
      "image/png": "[encoded data removed]",
      "text/plain": [
       "<Figure size 432x288 with 1 Axes>"
      ]
     },
     "metadata": {
      "needs_background": "light"
     },
     "output_type": "display_data"
    }
   ],
   "source": [
    "crosstab09 = pd.crosstab(df['last_new_job'], df['target'])\n",
    "crosstab09norm = crosstab09.div(crosstab09.sum(1), axis = 0)\n",
    "crosstab09norm.plot(kind='bar', stacked = True)"
   ]
  },
  {
   "cell_type": "code",
   "execution_count": 19,
   "metadata": {},
   "outputs": [
    {
     "data": {
      "text/plain": [
       "<AxesSubplot:xlabel='training_hours'>"
      ]
     },
     "execution_count": 19,
     "metadata": {},
     "output_type": "execute_result"
    },
    {
     "data": {
      "image/png": "[encoded data removed]",
      "text/plain": [
       "<Figure size 432x288 with 1 Axes>"
      ]
     },
     "metadata": {
      "needs_background": "light"
     },
     "output_type": "display_data"
    }
   ],
   "source": [
    "crosstab10 = pd.crosstab(df['training_hours'], df['target'])\n",
    "crosstab10norm = crosstab10.div(crosstab10.sum(1), axis = 0)\n",
    "crosstab10norm.plot(kind='bar', stacked = True)"
   ]
  },
  {
   "cell_type": "code",
   "execution_count": 20,
   "metadata": {},
   "outputs": [
    {
     "data": {
      "text/plain": [
       "<AxesSubplot:xlabel='city'>"
      ]
     },
     "execution_count": 20,
     "metadata": {},
     "output_type": "execute_result"
    },
    {
     "data": {
      "image/png": "[encoded data removed]",
      "text/plain": [
       "<Figure size 432x288 with 1 Axes>"
      ]
     },
     "metadata": {
      "needs_background": "light"
     },
     "output_type": "display_data"
    }
   ],
   "source": [
    "crosstab11 = pd.crosstab(df['city'], df['target'])\n",
    "crosstab11norm = crosstab11.div(crosstab11.sum(1), axis = 0)\n",
    "crosstab11norm.plot(kind='bar', stacked = True)"
   ]
  },
  {
   "cell_type": "code",
   "execution_count": 21,
   "metadata": {},
   "outputs": [
    {
     "data": {
      "text/plain": [
       "<AxesSubplot:xlabel='city_development_index'>"
      ]
     },
     "execution_count": 21,
     "metadata": {},
     "output_type": "execute_result"
    },
    {
     "data": {
      "image/png": "[encoded data removed]",
      "text/plain": [
       "<Figure size 432x288 with 1 Axes>"
      ]
     },
     "metadata": {
      "needs_background": "light"
     },
     "output_type": "display_data"
    }
   ],
   "source": [
    "crosstab12 = pd.crosstab(df['city_development_index'], df['target'])\n",
    "crosstab12norm = crosstab12.div(crosstab12.sum(1), axis = 0)\n",
    "crosstab12norm.plot(kind='bar', stacked = True)"
   ]
  }
 ],
 "metadata": {
  "kernelspec": {
   "display_name": "Python 3",
   "language": "python",
   "name": "python3"
  },
  "language_info": {
   "codemirror_mode": {
    "name": "ipython",
    "version": 3
   },
   "file_extension": ".py",
   "mimetype": "text/x-python",
   "name": "python",
   "nbconvert_exporter": "python",
   "pygments_lexer": "ipython3",
   "version": "3.8.5"
  }
 },
 "nbformat": 4,
 "nbformat_minor": 4
}
